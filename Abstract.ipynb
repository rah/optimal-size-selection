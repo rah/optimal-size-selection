{
 "metadata": {
  "name": "",
  "signature": "sha256:c805ca3d662214e1072eab2e6c5250526db31ed89c0d46f45fc747366ce490b3"
 },
 "nbformat": 3,
 "nbformat_minor": 0,
 "worksheets": [
  {
   "cells": [
    {
     "cell_type": "heading",
     "level": 1,
     "metadata": {},
     "source": [
      "Abstract"
     ]
    },
    {
     "cell_type": "markdown",
     "metadata": {},
     "source": [
      "The feeding behaviour of a small littoral goby, Favonigobius melanobranchus was examined with special reference to size selectivity and concepts of optimal foraging. The diet was found to consist mainly of small crustaceans (95.42% by frequency) with harpacticoids, calanoids, and gammarid amphipods the major dietary components. Comparison of size of prey eaten with the size available in benthic samples showed fish to be apparently size selective.\n",
      "\n",
      "Determination of handling time for amphipod prey allowed optimal prey size to be calculated. Comparison with the mean prey size eaten by field specimens showed no clear relationship to optimal prey size. By proposing a normal distribution of prey preference around the optimal prey size, a simulation model predicted mean prey size in close accordance with the observed mean prey size eaten.\n",
      "\n",
      "The sizes of amphipods eaten and those collected in benthic samples were compared in bimonthly samples between February and August 1983. Marked shifts in the size frequency of amphipods eaten to smaller sizes of prey were observed in April and June. This appeared to be related to the abundance of a single species of epifaunal amphipod, and indicated a possible density dependant predator prey interaction. Harpacticoids and calanoids in the diet did not appear to follow similar trends, but aspects of the general diet with regard to diversity conformed to predictions of optimal foraging theory.\n",
      "\n",
      "Functional responses of the predator investigated under laboratory conditions showed a Type II response for small amphipods, and a Type III response for large amphipods. The response obtained for large amphipods was proposed as one possible component explaining in explaining the observed seasonal changes in predation of amphipods.\n",
      "\n",
      "When presented with a choice of large and small amphipods fish showed no selectivity. Calculation of optimal diet using random predator equations indicated fish were behaving optimally. Comparision with a well known and used method of calculating optimal diet showed that this method may not be suitable for experiments in which prey exploitation takes place.\n",
      "Although not conclusively proved, it is considered that strong evidence is shown for optimal foraging by F. melanobranchus."
     ]
    },
    {
     "cell_type": "code",
     "collapsed": false,
     "input": [],
     "language": "python",
     "metadata": {},
     "outputs": []
    }
   ],
   "metadata": {}
  }
 ]
}