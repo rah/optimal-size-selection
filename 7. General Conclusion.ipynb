{
 "metadata": {
  "name": "",
  "signature": "sha256:4a93335a94761307804e0775be8b0af57b16e7c874569304726fa7fe717db906"
 },
 "nbformat": 3,
 "nbformat_minor": 0,
 "worksheets": [
  {
   "cells": [
    {
     "cell_type": "heading",
     "level": 1,
     "metadata": {},
     "source": [
      "General Conclusion"
     ]
    },
    {
     "cell_type": "markdown",
     "metadata": {},
     "source": [
      "The seagrass bed of Rowes Bay harbours a wide variety of organisms which may potentially serve as suitable food for _F. melanobranchus_. The subset of prey items available to these fish is determined by factors involving characters of the predator, prey, and their environments. Within this subset of available prey items the results of this study indicate that feeding may include behavioural aspects other than encounter, catch, and eat.\n",
      "\n",
      "Small fish due to the limitations of mouth size and considerations of cost from handling time have a narrowly defined set of available prey compared with larger fish. A suitable strategy for these small fish may result in apparent unselective feeding, but larger fish with a wider range of prey may have the potential to utilise more than one strategy in feeding. A simple division of possible strategies would be for fish to either maximise the number of prey eaten or to maximise the rate of energy intake.\n",
      "\n",
      "The size selection of prey observed for F. melanobranchus indicates that this fish selects larger prey items. Size selectivity may be exhibited by all sizes of fish, but the limitations of this study preclude a more detailed analysis of smaller fish. Therefore the feeding strategy utilised overall may be that of energy maximisation, although this is only suggested by the results for large fish.\n",
      "\n",
      "Comparison of the diet determined from stomach contents of specimens collected from Rowes Bay with the predictions of optimal foraging theory shows that aspects of the feeding behaviour conform to theory. Under laboratory conditions, detailed analysis of the parameters of attack rate and handling time applied to a two prey situation, also indicate that feeding behaviour conforms to the tenants of optimal foraging theory.\n",
      "\n",
      "Although this study does not conclusively prove that _F. melanobranchus_ feeds optimally, the results are considered to provide strong support for the concepts underlying the present development of optimal foraging theory.\n",
      "\n",
      "Many criticisms exist concerning present models of optimal foraging. One aspect, that most models used deal with static rather than dynamic situations was shown to be relevant in this study when dealing with experiments involving exploitation of prey. Other points of criticism involve changes in the animals motivational state, assumption of perfect knowledge by the forager, and the assumption that energy intake is the optimal criterion (Sih, 1980; Krebs et.al., 1981).\n",
      "\n",
      "Even though these points, and other may be raised to highlight the failing of optimal foraging models, they do not justify rejection of this theoretical approach. If used as an absolute predictor of foraging behaviour then clearly the models are inadequate. The main purpose of optimal foraging theory and associated models is to provide formal statements, against which clear hypotheses may be tested. In this way experimental work is given a direction, and as models are tested, ideas and concepts can be refined. \n",
      "\n",
      "The results presented in this thesis cover only a small section of the foraging behaviour that may be exhibited by these fish. Possible future work could involve investigation of the manner in which functional responses vary with respect to fish size, hunger, and habitat complexity. Knowledge of these parameters may then be applied in more complex models of optimal foraging."
     ]
    },
    {
     "cell_type": "code",
     "collapsed": false,
     "input": [],
     "language": "python",
     "metadata": {},
     "outputs": []
    }
   ],
   "metadata": {}
  }
 ]
}