{
 "cells": [
  {
   "cell_type": "markdown",
   "metadata": {},
   "source": [
    "# 4. Prey Handling Time and Application to Size Selection"
   ]
  },
  {
   "cell_type": "markdown",
   "metadata": {},
   "source": [
    "## 4.1 Introduction"
   ]
  },
  {
   "cell_type": "markdown",
   "metadata": {},
   "source": [
    "Two of the main variables used in models of predation are the encounter rate and handling time. This latter variable is the time delay in searching whilst a prey is captured and eaten (Werner, 1974). All models of optimal diet require that the items encountered be ranked according to some measure of profit to the feeder (Schroner, 1971).\n",
    "\n",
    "_F. melanobranchus_ encounters prey differing considerably in size. The relationship between predator size and prey size with respect to handling time enables the profitability of prey items to different sized fish to be examined. Optimum prey size can then be determined and compared with the apparent selectivity shown by fish."
   ]
  },
  {
   "cell_type": "markdown",
   "metadata": {},
   "source": [
    "## 4.2 Methods"
   ]
  },
  {
   "cell_type": "markdown",
   "metadata": {},
   "source": [
    "Individual fish ranging in size from 15-31mm (n=22) were placed in a small aquarium (15x7x12cm) at room temperature (22-24C). Prey consisted of one species of amphipod (AMA). Either a small, medium, or large amphipod was selected at random, head depth measured under a stereo dissector with an ocular micrometer, and presented to the fish with a pipette. Handling time (h) was measured with a stopwatch from the time of seizure to recommencement of search behaviour by the fish. In all cases fish were starved for 24 hours prior to commencement of experimentation and naive to experimental conditions. Up to ten prey were presented to each fish. Any fish exhibiting disturbed behaviour were discarded.\n",
    "\n",
    "Lengths of amphipods were calculated from the regression:\n",
    "$$LT = 6.32HD - 0.41 (r = 0.96,p<0.001)$$\n",
    "where \n",
    "* LT = length from insertion on antenna to telson\n",
    "* HD = head depth through the eye to the base of the mouthparts"
   ]
  },
  {
   "cell_type": "markdown",
   "metadata": {},
   "source": [
    "## 4.3 Results"
   ]
  },
  {
   "cell_type": "markdown",
   "metadata": {},
   "source": [
    "Data from the handling time ranged from one second to well over 200 seconds. At the large extreme of prey size in relation to fish size, fish were observed to have considerable difficulty in handling the prey. On several occasions the prey item was seen to escape even though it had been taken entirely into the mouth. If successful at retaining a large item, considerable effort could be observed in swallowing the item by the display of violent body efforts exhibited by the fish. With medium and small sized prey, fish would seize the item and remain stationary while manipulating the prey in the buccal region. Accompanying this manipulation, wagging movements of the body and pectoral fins would occur. On completion of this behaviour the fish recommenced search behaviour.\n",
    "\n",
    "The data was scaled by taking the ratio of prey length and fish length (PS/FS) to enable a general relationship to be determined for all sizes of fish. As hunger can affect the handling time for a given prey size (Beukema, 1968), analysis of data was restricted to handling times obtained for up to a maximum of six items ingested. This would give an average handling time within the range of the numbers of amphipods eaten in the field. Additionally, handling time has been shown to only marginally increase over this range of prey items (Werner, 1974; Kislalioglu and Gibson, 1976a).\n",
    "The curve obtained for handline time per prey against the ration of prey size to fish size (fig. 7) increases slowly over small prey sizes and then rises rapidly for larger prey. Data points shown are the average handling time for 0.02 class groups of PS/FS. A curve was fitted to these points by an exponential function of h-1 which gives a better fit than h (Werner, 1974). Handling time h, is given by:\n",
    "\n",
    "$$h = 1 + 0.438e^{(24.78PS/FS)}\t(r = 0.93, p<0.001)$$\n",
    "\n",
    "The optimum prey size for a fish is that prey size which gives a maximum return, measured as dry weight ®, for the minimum expenditure of effort h. That is the prey which minimises the cost/benefit ratio, h/r. Using this relationship derived for h, cost/benefit curves, h/r, can be plotted against prey size for gobies (Fig. 8a).\n",
    "\n",
    "The change in the breadth of these curves as fish size increases indicates how the breadth of the diet with regard to prey size will change. Small fish should be restricted to a narrow range of prey sizes with little change in costs.\n",
    "\n",
    "When the optimal prey size is plotted against fish size (fig. 8b), the relationship is linear. In the case of _F. Melanobranchus_ mouth width is linearly correlated with fish size __(r=0.89, p<0.001)__. In species which exhibit allometric growth this relationship may not be linear.\n",
    "\n",
    "In optimal foraging models prey are initially ranked in the order of energy return (r/h). The optimal diet is then calculated by determining the sum rate of energy intake, taking into account search time and density of prey, commencing with the highest ranked prey item and sequentially adding lower ranked items (Charnov, 1976). The point at which the cumulative rate of energy intake is maximised contains the optimal set of prey items that should be eaten.\n",
    "\n",
    "Pursuit time in this model is incorporated into handling time. With F. melanobranchus observation of fish searching for and feeding on amphipods in an aquarium indicated that pursuit time is negligible and equivalent for all sizes of prey. Amphipods remain stationary as the fish approaches to within a few millimetres whereupon the prey is seized. Search time may also be regarded constant as all items may be searched for simultaneously (Schroener, 1971). Therefore the optimal diet may be estimated from handling time and abundance of prey items. As then abundance of the highest ranked prey item varies prey should be added or dropped from the diet in order imposed by h/r.\n",
    "\n",
    "Examination of the observed diets of gobies in the field indicate that this model does not fit the feeding behaviour. Larger gobies feed on the entire size range of items considered, that is from small harpacticoids to amphipods up to 5mm in length. One prediction of optimal foraging theory is that all items in the optimal set should be eaten. If the range of items from harpacticoids to amphipods constitutes the optimal set for large fish, then these should be eaten as encountered and no selectivity between these size ranges observed. Clearly this is not the case as shown by Figure 6. Several explanations may be proposed for these observed results.\n",
    "\n",
    "1. The assumptions of encounter rate and pursuit time are markedly violated;\n",
    "2. Fish do not forage optimally, but select the apparently largest item (O’Brien et. al., 1976);\n",
    "3. Cost benefit curves for larger fish change little over a wide range of prey sizes and fish can afford to be “sloppy” (Werner, 1974). This would give the appearance of partial selectivity for prey items either side of the optimal prey size;\n",
    "4. Effects of satiation or habitat heterogeneity in prey distribution give the appearance of partial selectivity in the accumulated diet (Pulliam, 1974; Lucas, 1983).\n",
    "\n",
    "Both 1) and 2) cannot be investigated further without data on search times or visual fields of fish. The third and fourth possibilities can be explored by proposing a partial preference of selectivity arounf the optimum prey size. In both cases the predicted diet should conform to the situation where highest selectivity values exist at the optimal prey size, and then decrease in order of rank of h/r. With F. melanobranchus this will approximate a decrease equally either side of the optimal prey size. Formally this may be considered as a function of the distance from the optimal size:\n",
    "\n",
    "$$Preference(I) = f(X(OPT)-X(I))$$\n",
    "where:\n",
    "* X = prey size,\n",
    "* I - ith prey item,\n",
    "* OPT = optimal prey size.\n",
    "\n",
    "To examine this relationship numerically, a simple simulation model was developed in which the preference distribution for different sized prey was considered to be a normal distribution around the optimal prey size.\n",
    "\n",
    "$$Preference(I) = 1/(2)e^{(-(xi-u)2/22)}$$\n",
    "where:\n",
    "* u = variance,\n",
    "* xi = prey size,\n",
    "* ? = optimal prey size.\n",
    "\n",
    "Figure 9. Shows the preference curve for a 21mm fish. Using the observed frequencies of harpacticoids, isopods and amphipods in the environment the model was initially run using an arbitrary variance of 1.0. this gave good results, and further analysis indicated that increasing the variance increased the mean size eaten by small fish, and decreased the mean size for large fish, with the reverse by decreasing the variance. A variance of 1.1 was found to give the best fit to the onserved mean size of harpacticoids, calanoids, isopods, and amphipods eaten (Fig. 10). A log-normal distribution and one based on normalised cost/benefit curves (r/h) were also tested. Although producing a similar effect neither fitted as well or produced a similar curve to the observed prey size means."
   ]
  },
  {
   "cell_type": "markdown",
   "metadata": {},
   "source": [
    "## 4.4 Discussion"
   ]
  },
  {
   "cell_type": "markdown",
   "metadata": {},
   "source": [
    "The relationship between handling time and fish size conforms to results obtained for other fish (Werner, 1974; Kislalioglu and Gibson, 1976), and as predicted by Schroener (1971).\n",
    "\n",
    "There have been many observations of the increase in the size range of food with increasing size of fish (Moore and Moore, 1976; Grossman et. al., 1980; Villiers, 1980). Although this can be correlated with fish size, the use of handling time provides a more quantitative approach to this behaviour. For a small fish the tightly folded curve reveals that marked changes in costs of eating larger prey items should result in limited changes in diet breadth. Large fish will only experience small changes in cost and should generally have broad diets relative to smaller fish (Werner, 1974).\n",
    "\n",
    "To make a more precise prediction concerning the diet of fish, Werner (1974), combines the information about costs with the distribution of the prey resource. By estimating the largest and smallest prey items of equal cost benefit ratio, the mean food size for the bluegill sunfish was computed by numerically integrating the area under the prey distribution between these limits. From this a relationship between the theoretical optimum prey size, predicted mean prey size and fish size was derived. This relationship is remarkably similar to that shown for _F. melanobranchus_ (Fig. 10), although calculated from different premises. Werners’ approach assumes no difference in selectivity between the upper and lower prey size limits, which does not apply to _F. melanobranchus_ (Fig. 6 ).\n",
    "\n",
    "The model as presented here using a normal distribution of preference around an optimum prey size should not be taken as a formal statement of the predator prey relationship between fish and prey size. The main use is in an illustrative manner in that partial preference can explain to some extent the observed diet. It is difficult to envisage a mechanism by which a fish can allocate a proportional probability of attack on encountering prey items of a particular size. The explanation that predator error (3) could account for partial preference agrees with the prediction by Palmer (1981), that predators whose prey vary primarily in handling time would be expected to make fewer errors than predators whose prey vary primarily in net energy, because the cost of making an error will be greater. Over the size range of items eaten by larger fish net energy (the inverse of cost/benefit, Fig 8a) varies slightly and therefore these fish can afford to make errors. With smaller fish net energy varies greatly, and fewer errors should be made.\n",
    "\n",
    "Alternatively the predictions of Pulliam (1974) and Lucas (1983) can equally account for the observed partial preference. To evaluate the actual mechanism of prey selection requires a more detailed analysis of the components of predation besides handling time, ie. Encounter rates and changes due to hunger and experience."
   ]
  },
  {
   "cell_type": "markdown",
   "metadata": {
    "collapsed": false
   },
   "source": [
    "$$\\unicode{xb0}C$$"
   ]
  },
  {
   "cell_type": "code",
   "execution_count": null,
   "metadata": {
    "collapsed": true
   },
   "outputs": [],
   "source": []
  }
 ],
 "metadata": {
  "kernelspec": {
   "display_name": "Python 3.8.10 64-bit",
   "language": "python",
   "name": "python3"
  },
  "language_info": {
   "codemirror_mode": {
    "name": "ipython",
    "version": 2
   },
   "file_extension": ".py",
   "mimetype": "text/x-python",
   "name": "python",
   "nbconvert_exporter": "python",
   "pygments_lexer": "ipython2",
   "version": "3.8.10"
  },
  "vscode": {
   "interpreter": {
    "hash": "916dbcbb3f70747c44a77c7bcd40155683ae19c65e1c03b4aa3499c5328201f1"
   }
  }
 },
 "nbformat": 4,
 "nbformat_minor": 0
}
