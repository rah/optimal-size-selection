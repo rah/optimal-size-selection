{
 "cells": [
  {
   "cell_type": "markdown",
   "metadata": {},
   "source": [
    "# Reference"
   ]
  },
  {
   "cell_type": "markdown",
   "metadata": {},
   "source": [
    "Bartell, S.M., 1982. Influence of prey abundance on size selective predation by bluegills. Trans. Am. Fish. Soc. 111:453-461.\n",
    "\n",
    "Berg, J., 1979. Discussion of methods of investigating the food of fishes with reference to a preliminary study of the prey of Gobiosculus flavescens (Gobiidae). Mar. Biol. 50:263-273.\n",
    "\n",
    "Beukema, J.J., 1968. Predation by three spined stickle-back (Gasterostues aculeatus): the influence of hunger and experience. Behaviour 31:1-126.\n",
    "\n",
    "Breck, J.E., and M.J. Gitter, 1983. Effect of fish size on the reactive distance of the bluegill (Lepomis macrochirus) sunfish. Can. J. Fish. Aquat. Sci. 40:162-167.\n",
    "\n",
    "Charnov, E.L., 1976. Optimal foraging: attack strategy of a mantid. Am. Nat. 110:141-151.\n",
    "\n",
    "Chesson, J., 1978. Measuring preference in selective predation. Ecology 59:211-215.\n",
    "\n",
    "Coates, D., 1980. Prey-size intake in humbug damselfish Dascyllus aruanus (Pisces:Pomacentridae) living within social groups. J. Anim. Ecol. 49:335-340.\n",
    "\n",
    "Cock, M.J.W., 1978. The assessment of preference. J. Anim. Ecol. 47:805-816.\n",
    "\n",
    "Confer, J.L., G.L. Howick, and M.H. Corzette, 1978. Visual predation by plantovores. Oikos 31:27-37.\n",
    "\n",
    "Dill, L.M., 1983. Adaptive flexibility in the foraging behaviour of fishes. Can. J. Fish. Aquat. Sci. 40:398-408\n",
    "\n"
   ]
  },
  {
   "cell_type": "code",
   "execution_count": null,
   "metadata": {
    "collapsed": false
   },
   "outputs": [],
   "source": []
  }
 ],
 "metadata": {
  "kernelspec": {
   "display_name": "Python 3.8.10 64-bit",
   "language": "python",
   "name": "python3"
  },
  "language_info": {
   "codemirror_mode": {
    "name": "ipython",
    "version": 2
   },
   "file_extension": ".py",
   "mimetype": "text/x-python",
   "name": "python",
   "nbconvert_exporter": "python",
   "pygments_lexer": "ipython2",
   "version": "3.8.10"
  },
  "vscode": {
   "interpreter": {
    "hash": "916dbcbb3f70747c44a77c7bcd40155683ae19c65e1c03b4aa3499c5328201f1"
   }
  }
 },
 "nbformat": 4,
 "nbformat_minor": 0
}
