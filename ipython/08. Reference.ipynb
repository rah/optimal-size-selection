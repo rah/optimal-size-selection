{
 "metadata": {
  "name": "",
  "signature": "sha256:d80e25f5429d66ac7a14a4e118f42e180183a2a2141241d96e2ebc010fb5ecdb"
 },
 "nbformat": 3,
 "nbformat_minor": 0,
 "worksheets": [
  {
   "cells": [
    {
     "cell_type": "heading",
     "level": 1,
     "metadata": {},
     "source": [
      "Reference"
     ]
    },
    {
     "cell_type": "markdown",
     "metadata": {},
     "source": [
      "Bartell, S.M., 1982. Influence of prey abundance on size selective predation by bluegills. Trans. Am. Fish. Soc. 111:453-461.\n",
      "\n",
      "Berg, J., 1979. Discussion of methods of investigating the food of fishes with reference to a preliminary study of the prey of Gobiosculus flavescens (Gobiidae). Mar. Biol. 50:263-273.\n",
      "\n",
      "Beukema, J.J., 1968. Predation by three spined stickle-back (Gasterostues aculeatus): the influence of hunger and experience. Behaviour 31:1-126.\n",
      "\n",
      "Breck, J.E., and M.J. Gitter, 1983. Effect of fish size on the reactive distance of the bluegill (Lepomis macrochirus) sunfish. Can. J. Fish. Aquat. Sci. 40:162-167.\n",
      "\n",
      "Charnov, E.L., 1976. Optimal foraging: attack strategy of a mantid. Am. Nat. 110:141-151.\n",
      "\n",
      "Chesson, J., 1978. Measuring preference in selective predation. Ecology 59:211-215.\n",
      "\n",
      "Coates, D., 1980. Prey-size intake in humbug damselfish Dascyllus aruanus (Pisces:Pomacentridae) living within social groups. J. Anim. Ecol. 49:335-340.\n",
      "\n",
      "Cock, M.J.W., 1978. The assessment of preference. J. Anim. Ecol. 47:805-816.\n"
     ]
    },
    {
     "cell_type": "code",
     "collapsed": false,
     "input": [],
     "language": "python",
     "metadata": {},
     "outputs": []
    }
   ],
   "metadata": {}
  }
 ]
}