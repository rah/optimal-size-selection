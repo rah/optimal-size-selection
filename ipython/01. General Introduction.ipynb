{
 "cells": [
  {
   "cell_type": "markdown",
   "metadata": {},
   "source": [
    "# General Introduction"
   ]
  },
  {
   "cell_type": "markdown",
   "metadata": {},
   "source": [
    "The study of predation by fish involves consideration of a highly complex system incorporating characteristics of the predator, its prey, and their environment. Observations that the frequency of prey items ingested by a fish may not reflect the apparent availability of those items in the environment has lead to the investigation of the mechanisms that may cause this observed behaviour.\n",
    "\n",
    "Several factors have been shown to affect prey selection by fish in addition to the population density of prey items. With respect to the predator, difference in size of individual fish (Tyler, 1972; Werner, 1974; Moore and Moore, 1976; Kislalioglu and Gibson, 1976a; Livingstone, 1980; Villers, 1980), visual field (Confer et. al., 1978; Breck and Gitter, 1983), hunger (Beukema, 1968; Ware, 1972; Werner, 1974), experience and learning (Beukema, 1968; Levy, 1969; Vinyard, 1980; Werner et. al., 1981), and social position (Coates, 1980; Mittleback, 1981; Milinski, 1982) have all been shown to affect size and type of prey eaten. Prey characteristics observed to affect prey selection include colour, size, activity, and defence mechanisms (Eggers, 1972; Confer and Blades, 1975; Kislalioglu and Gibson, 1976b; Ware, 1973; Vinyard, 1980; Magnhagen and Wiederholm, 1982; Visser, 1982). Added to these characteristics of predator and prey may be environmental factors of temperature, light, turbidity, and many others.\n",
    "\n",
    "Any attempt to derive a relationship between all variables in order to develop an explanation of feeding behaviour would present great problems. Most models developed so far, concentrate on a subset of the possible interactions. These models may be broadly divided into those which base prey selection on mechanical constraints i.e. Vision, swimming speed, prey visibility (Ware, 1973; O’Brien et. al., 1976), and those which incorporate aspects of optimal foraging theory (Werner and Hall, 1974; Eggers, 1977).\n",
    "\n",
    "This latter theory has been derived from a series of mathematical models beginning with Emlem (1966), and continuing to be developed through to the present date. All models are very similar, in that they all assume that the fitness of a foraging animal is a function of the efficiency of foraging measured in terms of some “currency”, usually energy, and that natural selection has resulted in animals that forage so as to maximise this fitness (Pyke et. Al., 1977). Most often the theory is applied to the question of choice by an animal of which food type to eat, although questions of when, where and how to forage may also be approached using the concepts of this theory.\n",
    "\n",
    "When applied to diet the basic result predicts the following: \n",
    "\n",
    "1. Whether or not a food type should be eaten, is independent of the abundance of that food type and depends only on the absolute abundance of food types of higher rank. \n",
    "2. As the abundance of preferred food types changes, less preferred food items will be included if abundance falls, in their rank order of food value to handling time, ie. The diversity of foods in the diet will change. \n",
    "3. A food type is either completely included in the optimal diet or completely excluded from it, animals should not exhibit partial preferences. However if the theory is extended to include dietary constraints or random variations in food abundance then partial preferences can be expected (Pulliam, 1974; Lucas, 1983).\n",
    "\n",
    "Practical application of this theory to studies of fish feeding has mainly been related to the size of prey eaten. Many species of planktivorous fish have clearly been shown to feed on larger species of zooplankton out of proportion to the density of those prey in the environment (O’Brien et. al., 1976). Werner and Hall (1974), showed that bluegill sunfish (_Lepomis macrochirus_) allowed to feed on three different size classes of daphnia had diets remarkably similar to those predicted for an optimal diet.\n",
    "\n",
    "Other workers have disagreed with this model and have suggested that the observed results could equally be explained by fish taking the apparently largest item (O’Brien et. al., 1976). Their model proposes that smaller food items will appear larger than more distant large items, and fish will select the apparently largest item. At low levels of prey abundance fish will eat both large and small items, but as the abundance of larger items increases so will the proportion of larger items in the diet increase.\n",
    "\n",
    "Further work both in the field and under laboratory conditions has failed to provide conclusive evidence either for or against each model (Gibson, 1980; Gardner, 1981; Eggers, 1982; Visser, 1982). Most of these studies have involved freshwater planktivorous fish and comparatively few attempts have been made to specifically apply these models in the marine environment. Of those that have utilised optimal foraging theory only a qualitative comparison has been applied (Kislalioglu and Gibson, 1976a; Horn, 1983). Without knowledge of the encounter rates of prey items a formal application of the theory requires considerable assumptions which are likely to be violated. This remains one of the greatest difficulties in quantitative application of the theory to field situations.\n",
    "\n",
    "In this thesis the diet of a small littoral goby, _Favonigobius melanobranchus_ (Fowler, 1934), is examined in both field and laboratory situations with specific reference to size selection of prey items. The major objectives of the study were to determine whether:\n",
    "\n",
    "1. _F. melanobranchus_ is size selective\n",
    "2. The observed diet qualitatively fits optimal foraging theory\n",
    "3. Prey selection under laboratory conditions quantitatively fits optimal theory"
   ]
  },
  {
   "cell_type": "code",
   "execution_count": null,
   "metadata": {
    "collapsed": false
   },
   "outputs": [],
   "source": []
  }
 ],
 "metadata": {
  "kernelspec": {
   "display_name": "Python 2",
   "language": "python",
   "name": "python2"
  },
  "language_info": {
   "codemirror_mode": {
    "name": "ipython",
    "version": 2
   },
   "file_extension": ".py",
   "mimetype": "text/x-python",
   "name": "python",
   "nbconvert_exporter": "python",
   "pygments_lexer": "ipython2",
   "version": "2.7.6"
  }
 },
 "nbformat": 4,
 "nbformat_minor": 0
}
