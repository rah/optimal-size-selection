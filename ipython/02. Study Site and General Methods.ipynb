{
 "cells": [
  {
   "cell_type": "markdown",
   "metadata": {},
   "source": [
    "# Study Site and General Methods"
   ]
  },
  {
   "cell_type": "markdown",
   "metadata": {},
   "source": [
    "## Study Site"
   ]
  },
  {
   "cell_type": "markdown",
   "metadata": {},
   "source": [
    "The sampling area located in Rowes Bay, Townsville (Fig. 1a) is a small seagrass bed measuring approximately 200 meters by 400 meters, uncovered only by low tides of less than 0.8 meters above chart datum. The substrate is mud or sand, with a gradient of mud to sand seawards, and a few isolated patches of small rocks. Two seagrasses are present, the dominant species, _Halodule uninervis_, and _Halophylla ovata_ occurring in small patches or interspersed with _H. uninervis_."
   ]
  },
  {
   "cell_type": "markdown",
   "metadata": {},
   "source": [
    "<p><p>\n",
    "<center><img src=\"images/RowesBay.jpg\" alt=\"Fig. 1 Study Site\" height=400 width=400><center>\n",
    "<p><p>\n",
    "<center><b>Fig. 1a</b> Original map of Rowes Bay showing study site</center>"
   ]
  },
  {
   "cell_type": "code",
   "execution_count": 25,
   "metadata": {
    "collapsed": false,
    "scrolled": true
   },
   "outputs": [
    {
     "data": {
      "text/html": [
       "\n",
       "        <iframe\n",
       "            width=\"500px\"\n",
       "            height=\"500px\"\n",
       "            src=\"http://maps.google.com/maps?q=-19.2415+146.796&output=embed\"\n",
       "            frameborder=\"0\"\n",
       "            allowfullscreen\n",
       "        ></iframe>\n",
       "        "
      ],
      "text/plain": [
       "<IPython.lib.display.IFrame at 0x36df9b0>"
      ]
     },
     "metadata": {},
     "output_type": "display_data"
    }
   ],
   "source": [
    "from IPython.display import IFrame\n",
    "from IPython.core.display import display\n",
    "\n",
    "google_maps_url = \"http://maps.google.com/maps?q=-19.2415+146.796&output=embed\"\n",
    "display(IFrame(google_maps_url, '500px', '500px'))"
   ]
  },
  {
   "cell_type": "markdown",
   "metadata": {},
   "source": [
    "<b>Fig. 1a Rowes Bay Study Site</b>"
   ]
  },
  {
   "cell_type": "markdown",
   "metadata": {},
   "source": [
    "When exposed at low tide this area contains a maze of small pools varying both in size (1m-20m) and depth (1cm-10cm). Within these pools many of the permanent residents of the seagrass bed shelter. Of the fish that may be found, only gobies (Gobidae) and pipefish (Sygnathidae) appear to be adult residents of the area. The most common fish found resident at low tide is a small goby, _Favonigobius melanobranchus_ (Fig. 1b).\n",
    "\n",
    "<center><img src=\"images/Goby.jpg\" alt=\"Favonigobius melanobranchus\" height=400 width=850></center>\n",
    "<center><b>Fig. 1b </b><i>Favonigobius melanobranchus</i></center>\n",
    "\n",
    "This fish attains a maximum size of 35mm total length in specimens sampled, with the majority of mature specimens in the size range of 25-32mm. It is apparently a true permanent resident of the area with specimens being collected through a size range of 8-36mm. Observation of the size frequency of specimens collected from January to August 1983, indicated that this species has an extended breeding season with a peak during summer, when many small specimens were caught to few or none in winter.\n",
    "\n",
    "Observation of the seagrass bed through the sampling period January to August revealed marked changes in the density of seagrass cover. Density decreased through to June and July leaving the area with only a sparse patchy cover of old epiphyte/fauna covered leaves. In August regrowth of seagrass commenced, and within a period of several weeks a clear increase in seagrass density was evident.\n",
    "\n",
    "Other changes in the study site over the period were deposits of fine mud during rough weather, mass settlement of bivalve spat in May, and the appearance of large amounts of drift algae late in July."
   ]
  },
  {
   "cell_type": "markdown",
   "metadata": {},
   "source": [
    "## General Methods"
   ]
  },
  {
   "cell_type": "markdown",
   "metadata": {},
   "source": [
    "### Field Sampling"
   ]
  },
  {
   "cell_type": "markdown",
   "metadata": {},
   "source": [
    "All sampling was conducted during low tides. Preliminary studies indicated that the greatest number of prey items was found in gut contents of fish collected during the afternoon, so all sampling was conducted at this time.\n",
    "\n",
    "Fish were collected using a triangular dip net (base length 30cm, mesh 1mm) pulled over the substrate. Net contents were sorted on site retaining specimens as required for stomach contents or laboratory experiments. Those fish required for stomach content analysis were killed and preserved in 10% formalin and later transferred to 70% alcohol. Trial specimens observed in a clean jar showed no evidence of regurgitation of stomach contents. Samples were taken over the entire sampling area, and as the fish were not readily visible, approximate random samples were obtained. Fish retained were restricted to sizes and numbers required for gut analysis in order to prevent excessive removal of fish from a potentially decreasing population, due to mortality and reduced breeding in winter.\n",
    "\n",
    "Benthic samples were collected using a wooden quadrant of side length 25cm and 10cm in height, pushed into the substrate approximately 1cm. Benthos was captured by sweeping the area inside the quadrant twenty times with a small fine meshed handnet (mesh 0.45mm). Although some items smaller than the mesh size of the net may have escaped, detritus rapidly clogged the mesh and provided an effective trap for these animals.\n",
    "\n",
    "Preliminary tests of a 10cm diameter corer showed that the surface area sampled was insufficient for collecting numbers of amphipods without greatly increasing the sample size. Thus, the quadrant method presented the best cost effective technique in terms of animal numbers and ease of collection, although with likely underestimation of number in the smaller size fraction. Additionally this method was assumed to collect animals in a manner which would be more likely to reflect the availability of prey to fish, than that collected by a corer.\n",
    "\n",
    "Samples were collected along a transect, which bisected the seagrass bed parallel to the sea edge, at a random number of paces along and at right angles (alternatively left and right) to the transect. These were placed in 375ml glass screw top jars with 10% formalin."
   ]
  },
  {
   "cell_type": "markdown",
   "metadata": {},
   "source": [
    "### Laboratory Methods"
   ]
  },
  {
   "cell_type": "markdown",
   "metadata": {},
   "source": [
    "Total length of fish was measured to the nearest millimetre, and the entire gut was removed from the oesophagus to rectum under a stereo dissecting microscope. Gut morphology is a simple tube folded into an S shape giving three distinct portions. To avoid bias due to differential digestion of prey items (Berg, 1979; Hyslop, 1980) only the first section of the gut was analysed. This was separated from the remaining section and placed into a drop of glycerine on a microscope slide. The gut wall was teased apart, prey items removed and enumerated.\n",
    "\n",
    "Benthic samples were split into two size fractions using Endecotts test sieves of size 0.5mm and 0.125mm. Each fraction was placed into a one litre glass jar which was rapidly filled with fresh water and decanted back into the original sieves (five repeats), to separate organic material from the heavier sand. Checks of the remaining sediments indicated that this provided effective separation with only some heavier bivalves and gastropods remaining. The smaller fraction was washed into glass vials with 70% alcohol for later enumeration. The larger fraction was washed into a white square dish, prey items removed visually and stored in 70% alcohol.\n",
    "\n",
    "To count the number of prey items in the smaller size fractions, these were split into four using a simple vertical splitter, and one split counted in a small Bogaroff tray under a stereo dissector. The larger size fractions were placed into petri dishes, for identification and counting.\n",
    "\n",
    "All measurement of prey items were obtained with the aid of a Profile projector (Nikon model 6C). Length of prey item under the appropriate magnification was recorded on tracing paper and later measured with the use of dividers to the nearest 0.1mm. Although greater accuracy could have been obtained, this level was decided upon to minimise any possible errors due to curvature of the prey items. Items in both gut contents and benthic samples were measured by this method. All items found in gut contents were measured with the exception of harpacticoids and calanoids, for which a maximum of ten per fish were measured. Amphipods on occasion caused problems if broken due to digestion or during extraction from the gut. If not badly damaged the sections were pieced together and size estimated, otherwise these items could not be included.\n",
    "Sub-samples from pooled samples were measured to obtain an estimate of the average size frequency of prey items. Sub-sampling was carried out with a pasteur pipette with the end snapped off to provide a suitable aperture diameter enabling the largest items to pass through easily.\n",
    "\n",
    "With the exception of amphipods, prey items were classified to a broad taxonomic level eg. harpacticoid, nematode, isopod. Amphipods were separated into distinct types as far as possible, with a total of nine categories found. These were identified with letters ie. AMA - Amphipod type A. Copepods were subdivided into two groups, benthic harpacticoids and calanoids. Further identification of amphipods was attempted using Barnes (1969), as shown in Appendix A.\n",
    "\n",
    "Dry weights of prey items were obtained by placing items collected from benthic samples into small alfoil trays. Due to the small size of many of these organisms, groups of between five and twenty would be placed into each tray. These were dried overnight at 60&deg;C and weighed on a Cahn 21 automatic electro-balance."
   ]
  },
  {
   "cell_type": "code",
   "execution_count": null,
   "metadata": {
    "collapsed": false
   },
   "outputs": [],
   "source": []
  }
 ],
 "metadata": {
  "kernelspec": {
   "display_name": "Python 3.8.10 64-bit",
   "language": "python",
   "name": "python3"
  },
  "language_info": {
   "codemirror_mode": {
    "name": "ipython",
    "version": 2
   },
   "file_extension": ".py",
   "mimetype": "text/x-python",
   "name": "python",
   "nbconvert_exporter": "python",
   "pygments_lexer": "ipython2",
   "version": "3.8.10"
  },
  "vscode": {
   "interpreter": {
    "hash": "916dbcbb3f70747c44a77c7bcd40155683ae19c65e1c03b4aa3499c5328201f1"
   }
  }
 },
 "nbformat": 4,
 "nbformat_minor": 2
}
