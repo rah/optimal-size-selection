{
 "cells": [
  {
   "cell_type": "code",
   "execution_count": 1,
   "metadata": {},
   "outputs": [],
   "source": [
    "import pandas as pd\n",
    "import seaborn as sns"
   ]
  },
  {
   "cell_type": "code",
   "execution_count": 2,
   "metadata": {},
   "outputs": [
    {
     "data": {
      "text/html": [
       "<div>\n",
       "<style scoped>\n",
       "    .dataframe tbody tr th:only-of-type {\n",
       "        vertical-align: middle;\n",
       "    }\n",
       "\n",
       "    .dataframe tbody tr th {\n",
       "        vertical-align: top;\n",
       "    }\n",
       "\n",
       "    .dataframe thead th {\n",
       "        text-align: right;\n",
       "    }\n",
       "</style>\n",
       "<table border=\"1\" class=\"dataframe\">\n",
       "  <thead>\n",
       "    <tr style=\"text-align: right;\">\n",
       "      <th></th>\n",
       "      <th>Quad</th>\n",
       "      <th>Sieve</th>\n",
       "      <th>HA</th>\n",
       "      <th>AMA</th>\n",
       "      <th>AMB</th>\n",
       "      <th>AMC</th>\n",
       "      <th>AMD</th>\n",
       "      <th>AME</th>\n",
       "      <th>AMF</th>\n",
       "      <th>AMG</th>\n",
       "      <th>AM?</th>\n",
       "      <th>IS</th>\n",
       "      <th>CU</th>\n",
       "      <th>CO</th>\n",
       "      <th>CAP</th>\n",
       "      <th>PN</th>\n",
       "      <th>DEC</th>\n",
       "      <th>PO</th>\n",
       "      <th>POG</th>\n",
       "    </tr>\n",
       "  </thead>\n",
       "  <tbody>\n",
       "    <tr>\n",
       "      <th>0</th>\n",
       "      <td>11</td>\n",
       "      <td>&lt;0.5mm</td>\n",
       "      <td>2012</td>\n",
       "      <td>52</td>\n",
       "      <td>0</td>\n",
       "      <td>0</td>\n",
       "      <td>116</td>\n",
       "      <td>0</td>\n",
       "      <td>0</td>\n",
       "      <td>0</td>\n",
       "      <td>0</td>\n",
       "      <td>64</td>\n",
       "      <td>28</td>\n",
       "      <td>16</td>\n",
       "      <td>0</td>\n",
       "      <td>0</td>\n",
       "      <td>0</td>\n",
       "      <td>0</td>\n",
       "      <td>0</td>\n",
       "    </tr>\n",
       "    <tr>\n",
       "      <th>1</th>\n",
       "      <td>10</td>\n",
       "      <td>&lt;0.5mm</td>\n",
       "      <td>1668</td>\n",
       "      <td>24</td>\n",
       "      <td>0</td>\n",
       "      <td>0</td>\n",
       "      <td>16</td>\n",
       "      <td>0</td>\n",
       "      <td>0</td>\n",
       "      <td>0</td>\n",
       "      <td>0</td>\n",
       "      <td>48</td>\n",
       "      <td>44</td>\n",
       "      <td>4</td>\n",
       "      <td>0</td>\n",
       "      <td>0</td>\n",
       "      <td>0</td>\n",
       "      <td>0</td>\n",
       "      <td>0</td>\n",
       "    </tr>\n",
       "    <tr>\n",
       "      <th>2</th>\n",
       "      <td>9</td>\n",
       "      <td>&lt;0.5mm</td>\n",
       "      <td>960</td>\n",
       "      <td>72</td>\n",
       "      <td>20</td>\n",
       "      <td>12</td>\n",
       "      <td>60</td>\n",
       "      <td>0</td>\n",
       "      <td>4</td>\n",
       "      <td>0</td>\n",
       "      <td>0</td>\n",
       "      <td>92</td>\n",
       "      <td>60</td>\n",
       "      <td>12</td>\n",
       "      <td>0</td>\n",
       "      <td>0</td>\n",
       "      <td>0</td>\n",
       "      <td>0</td>\n",
       "      <td>0</td>\n",
       "    </tr>\n",
       "    <tr>\n",
       "      <th>3</th>\n",
       "      <td>8</td>\n",
       "      <td>&lt;0.5mm</td>\n",
       "      <td>1648</td>\n",
       "      <td>40</td>\n",
       "      <td>12</td>\n",
       "      <td>4</td>\n",
       "      <td>204</td>\n",
       "      <td>0</td>\n",
       "      <td>20</td>\n",
       "      <td>4</td>\n",
       "      <td>0</td>\n",
       "      <td>232</td>\n",
       "      <td>120</td>\n",
       "      <td>0</td>\n",
       "      <td>0</td>\n",
       "      <td>0</td>\n",
       "      <td>0</td>\n",
       "      <td>0</td>\n",
       "      <td>0</td>\n",
       "    </tr>\n",
       "    <tr>\n",
       "      <th>4</th>\n",
       "      <td>7</td>\n",
       "      <td>&lt;0.5mm</td>\n",
       "      <td>456</td>\n",
       "      <td>36</td>\n",
       "      <td>8</td>\n",
       "      <td>0</td>\n",
       "      <td>8</td>\n",
       "      <td>0</td>\n",
       "      <td>0</td>\n",
       "      <td>0</td>\n",
       "      <td>0</td>\n",
       "      <td>24</td>\n",
       "      <td>16</td>\n",
       "      <td>12</td>\n",
       "      <td>8</td>\n",
       "      <td>0</td>\n",
       "      <td>0</td>\n",
       "      <td>0</td>\n",
       "      <td>0</td>\n",
       "    </tr>\n",
       "  </tbody>\n",
       "</table>\n",
       "</div>"
      ],
      "text/plain": [
       "   Quad   Sieve    HA  AMA  AMB  AMC  AMD  AME  AMF  AMG  AM?   IS   CU  CO  \\\n",
       "0    11  <0.5mm  2012   52    0    0  116    0    0    0    0   64   28  16   \n",
       "1    10  <0.5mm  1668   24    0    0   16    0    0    0    0   48   44   4   \n",
       "2     9  <0.5mm   960   72   20   12   60    0    4    0    0   92   60  12   \n",
       "3     8  <0.5mm  1648   40   12    4  204    0   20    4    0  232  120   0   \n",
       "4     7  <0.5mm   456   36    8    0    8    0    0    0    0   24   16  12   \n",
       "\n",
       "   CAP  PN  DEC  PO  POG  \n",
       "0    0   0    0   0    0  \n",
       "1    0   0    0   0    0  \n",
       "2    0   0    0   0    0  \n",
       "3    0   0    0   0    0  \n",
       "4    8   0    0   0    0  "
      ]
     },
     "execution_count": 2,
     "metadata": {},
     "output_type": "execute_result"
    }
   ],
   "source": [
    "df = pd.read_csv(\"../data/Benthos-23-to-26-4-83.csv\")\n",
    "df.head()"
   ]
  },
  {
   "cell_type": "code",
   "execution_count": 3,
   "metadata": {},
   "outputs": [
    {
     "data": {
      "text/plain": [
       "Quad                                                   329\n",
       "Sieve    <0.5mm<0.5mm<0.5mm<0.5mm<0.5mm<0.5mm<0.5mm<0.5...\n",
       "HA                                                   16075\n",
       "AMA                                                   1202\n",
       "AMB                                                    141\n",
       "AMC                                                     42\n",
       "AMD                                                   1104\n",
       "AME                                                     11\n",
       "AMF                                                    155\n",
       "AMG                                                     19\n",
       "AM?                                                      4\n",
       "IS                                                    1396\n",
       "CU                                                     924\n",
       "CO                                                      93\n",
       "CAP                                                    124\n",
       "PN                                                      48\n",
       "DEC                                                     15\n",
       "PO                                                      19\n",
       "POG                                                      4\n",
       "dtype: object"
      ]
     },
     "execution_count": 3,
     "metadata": {},
     "output_type": "execute_result"
    }
   ],
   "source": [
    "df.sum()"
   ]
  },
  {
   "cell_type": "code",
   "execution_count": 6,
   "metadata": {},
   "outputs": [
    {
     "data": {
      "text/plain": [
       "<AxesSubplot:>"
      ]
     },
     "execution_count": 6,
     "metadata": {},
     "output_type": "execute_result"
    },
    {
     "data": {
      "image/png": "[encoded data removed]",
      "text/plain": [
       "<Figure size 432x288 with 1 Axes>"
      ]
     },
     "metadata": {
      "needs_background": "light"
     },
     "output_type": "display_data"
    }
   ],
   "source": [
    "sns.lineplot(data=df)"
   ]
  }
 ],
 "metadata": {
  "kernelspec": {
   "display_name": "Python 3.10.4 ('optimal-selection')",
   "language": "python",
   "name": "python3"
  },
  "language_info": {
   "codemirror_mode": {
    "name": "ipython",
    "version": 3
   },
   "file_extension": ".py",
   "mimetype": "text/x-python",
   "name": "python",
   "nbconvert_exporter": "python",
   "pygments_lexer": "ipython3",
   "version": "3.10.4 (main, Mar 31 2022, 08:41:55) [GCC 7.5.0]"
  },
  "orig_nbformat": 4,
  "vscode": {
   "interpreter": {
    "hash": "6fc40e26add124368a7929bbef08bccde8069199cd55b12db5b8c2eb7f9dfe6b"
   }
  }
 },
 "nbformat": 4,
 "nbformat_minor": 2
}
