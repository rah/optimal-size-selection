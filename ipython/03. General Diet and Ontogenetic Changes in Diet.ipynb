{
 "cells": [
  {
   "cell_type": "markdown",
   "metadata": {},
   "source": [
    "# General Diet and Ontogenetic Changes in Diet"
   ]
  },
  {
   "cell_type": "markdown",
   "metadata": {},
   "source": [
    "## Introduction"
   ]
  },
  {
   "cell_type": "markdown",
   "metadata": {},
   "source": [
    "A variety of feeding types occur in the Gobiidae with three main types identified: carnivores, omnivores and herbivores, carnivores predominating (Villers, 1980). As these fish are often abundant numerically in littoral waters they are considered to play an important role in food chains as consumers of secondary producers (Grossman, 1980; Villers 1980; Schmidt-Moser and Westphal, 1981).\n",
    "\n",
    "In this section the general diet and ontogenetic changes are examined and compared with the observed abundance of benthic organisms."
   ]
  },
  {
   "cell_type": "markdown",
   "metadata": {},
   "source": [
    "## Methods"
   ]
  },
  {
   "cell_type": "markdown",
   "metadata": {},
   "source": [
    "To obtain an overall understanding of the diet of _F. melanobranchus_, all bimonthly samples of fish were pooled and diet estimated for fish greater than or equal to 20mm total length. The estimation of abundance of prey items eaten was calculated as the mean number per fish. Weight of prey items was calculated by ranking the items on a scale from 1 to 4 determined from observation of the relative sizes of each prey group. The rank of each group was then multiplied by the mean abundance of prey items. Although several indices of relative importance of prey items exist, these have not been used as they add little new information when compared with any single measure (MacDonald and Green, 1983).\n",
    "\n",
    "Ontogenetic changes in diet were investigated during April 1983. Specimens were collected over five days (22nd-26th) at low tides during the afternoon. All samples were pooled and divided into three millimetre size classes. Analysis of prey items was restricted to the more common dietary prey items for which dry weights were obtained.\n",
    "\n",
    "Benthic samples were collected over the same period, sorted and measured as per general methods. Size frequency distribution of prey items from these samples was determined for harpacticoids, isopods and amphipods.\n"
   ]
  },
  {
   "cell_type": "markdown",
   "metadata": {},
   "source": [
    "## Results"
   ]
  },
  {
   "cell_type": "markdown",
   "metadata": {},
   "source": [
    "Of 197 fish analysed over the total sampling period from January to August 1983, prey were identified belonging to ten taxonomic groups of which seven were crustacean orders.\n",
    "\n",
    "Harpacticoids, calanoids, and gammarid amphipods constitute the major items in the diet (Table 1). Without a more accurate estimation of the contribution by weight it is difficult to state which of these three items is the most important. The method of ranking used to determine weight is probably a log scale (Southwood, 1966), and if so, gammarids would be of greatest importance. Isopods, caprellid amphipods, decapods, and polychaetes are the second group of importance. Decapods and polychaetes although occurring infrequently and in low numbers, usually one or at most two, contribute a large amount in terms of weight as the foregut is filled to at least 50% volume by these prey items."
   ]
  },
  {
   "cell_type": "markdown",
   "metadata": {},
   "source": [
    "Prey Type     |  %N  | %F   | %W      | Wt Rank |\n",
    "------------- | ---- | ---- |---------|---------|\n",
    "Harpacticoids | 48.1 | 60.4 | 30.0    | 1  |\n",
    "Gammarids     | 20.9 | 66.0 | 30.2    | 3    |\n",
    "Calanoids     | 20.1 | 18.3 | 25.1    | 2    |\n",
    "Isopods       |  2.7 | 15.7 | 3.3     | 2    |\n",
    "Polychaetes   |  1.7 | 15.7 | 3.2     | 3    |\n",
    "Decapods      |  1.2 | 10.6 | 2.9     | 4    |\n",
    "Caprellids    |  1.6 | 10.1 | 2.0     | 2    |\n",
    "Nematodes     |  2.2 |  8.1 | 1.4     | 1    |\n",
    "Cumaceans     |  0.9 |  6.1 | 1.1     | 2    |\n",
    "Gastropods    |  0.5 |  4.1 | 0.7     | 2    |\n",
    "\n",
    "<p></p>\n",
    "<b>Table 1:</b> Diet of <b><i>F. melanobranchus</b></i> with estimates of percentage number (%N), frequency of occurance (%F), weight (%W), and Weight Rank."
   ]
  },
  {
   "cell_type": "markdown",
   "metadata": {},
   "source": [
    "The analysis of ontogenetic changes in diet used a subset of prey items which constituted the numerically dominant items in the diet of all sizes of gobies. To achieve a more accurate estimation of the importance of these items in the diet, dry weights were used. With the exception of amphipods an average dry weight per item was estimated, as the size range of these items is relatively small compared with amphipods (Table 2)."
   ]
  },
  {
   "cell_type": "markdown",
   "metadata": {},
   "source": [
    "Prey Type      | Av. Dry Weight(ug) | Av. Length(mm)\n",
    "---------------|--------------------|---------------\n",
    "Harpacticoids  | 0.17               | 0.39\n",
    "Calanoids      | 0.30               | 0.65\n",
    "Isopods        | 0.45               | 0.58\n",
    "Nematodes      | 0.19               | 0.96\n",
    "\n",
    "<p></p>\n",
    "<center><b>Table 2:</b> Average dry weight and length of selected prey items.</center>\n"
   ]
  },
  {
   "cell_type": "markdown",
   "metadata": {},
   "source": [
    "A length weight relationship was estimated for the most abundant species of amphipod (AMA) in the study area (Fig. 2), with:"
   ]
  },
  {
   "cell_type": "code",
   "execution_count": 55,
   "metadata": {},
   "outputs": [
    {
     "data": {
      "image/png": "[encoded data removed]",
      "text/plain": [
       "<Figure size 576x720 with 1 Axes>"
      ]
     },
     "metadata": {
      "needs_background": "light"
     },
     "output_type": "display_data"
    }
   ],
   "source": [
    "import pandas as pd\n",
    "import numpy as np\n",
    "from scipy.optimize import curve_fit\n",
    "from sklearn.metrics import r2_score\n",
    "import matplotlib.pyplot as plt\n",
    "\n",
    "# ama_length_weight = pd.DataFrame(pd.read_csv('../data/AMA_Length_Weight.csv'))\n",
    "ama_length_weight = pd.read_csv('../data/AMA_Length_Weight.csv')\n",
    "\n",
    "# Define a function to fit the data to an exponential curve\n",
    "def func_exp(x, a, b, c):\n",
    "    return a * x ** b + c\n",
    "\n",
    "def exponential_fit(x, y):\n",
    "    popt, pcov = curve_fit(func_exp, x, y)\n",
    "    fitted_eqn = \"y = \" + str(round(popt[0], 2)) + \"x^\" + str(round(popt[1], 2)) + \" + \" + str(round(popt[2], 2))\n",
    "    \n",
    "    R2score = r2_score(y, func_exp(x, *popt))\n",
    "\n",
    "    fig = plt.figure(figsize=(8, 10))\n",
    "    plt.title(\"Length and Dry Weight relationship of Amphipod A\")\n",
    "    plt.plot(x, y, 'o', color='blue', label='data')\n",
    "    plt.plot(x, func_exp(x, *popt), color='xkcd:teal', label = f\"{fitted_eqn} (R²) = {R2score:.2f}\" )\n",
    "    plt.xlabel(\"Length (mm)\")\n",
    "    plt.ylabel(\"Weight (\\u00B5gm)\")\n",
    "    plt.legend()\n",
    "\n",
    "    plt.show()\n",
    "    \n",
    "    return func_exp(x, *popt)\n",
    "\n",
    "values = exponential_fit(ama_length_weight['Length'], ama_length_weight['Weight'])\n"
   ]
  },
  {
   "cell_type": "markdown",
   "metadata": {},
   "source": [
    "\n",
    "<b>Fig. 2</b> Length and Dry Weight Relationship of Amphipod A"
   ]
  },
  {
   "cell_type": "markdown",
   "metadata": {},
   "source": [
    "$Weight(\\mu g) = 0.24Length(mm)^{3.17} + 0.14 $ (r=0.92, p&lt;0.001)"
   ]
  },
  {
   "cell_type": "markdown",
   "metadata": {},
   "source": [
    "Comparison with dry weights of other species of amphipods indicated that the above relationship would be suitable as an estimate of weight for all amphipods."
   ]
  },
  {
   "cell_type": "markdown",
   "metadata": {},
   "source": [
    "Changes in the diet are clearly apparent as fish size increases (Fig. 3). With respect to smaller prey items, calanoids, isopods, nematodes, and harpacticoids, make up the bulk of the diet in fish below the 21mm size group. With the larger fish size groups, amphipods constitute the major food item. Figure 3 shows the average total weight per fish, the average number of items eaten per fish will show the same trends for small items as the total weight was calculated from an average item weight and frequency of that item. The average number of amphipods eaten per fish will be different from the total weight, as the weight of amphipods increases exponentially with size (Fig. 2). \n",
    "\n",
    "<p><p>\n",
    "<center><img src=\"images/Figure3.jpg\" alt=\"Fig. 3 Average total weight of prey items eaten per fish (empty stomachs included) for 3mm size class fish. Sample size in brackets\" height=500 width=400></center>\n",
    "<p><p>\n",
    "<center><b>Fig. 3</b> Average total weight of prey items eaten per fish</center>\n",
    "<center>(empty stomachs included) for 3mm size class fish.</center> \n",
    "<center>Sample size in brackets</center>\n",
    "\n",
    "The average number of amphipods eaten per fish ranges from 1 to 3 for size classes between 12 and 30mm (Fig. 4a), whereas the average size of amphipod eaten increases with fish size (Figs. 4b, 4c). Therefore the change in diet as size of fish increases is due to larger fish eating larger amphipods rather than more amphipods, and a reduction in the total number of all prey items eaten.\n",
    "\n",
    "<p><p>\n",
    "<center><img src=\"images/Figure4.jpg\" alt=\"Fig. 4 a) Average number of amphipods eaten per fish b) Average length of amphipod eaten c) Average weight of amphipod eaten\" height=500 width=400>\n",
    "</center><p><p>\n",
    "<center><b>Fig. 4</b> a) Average number of amphipods eaten per fish</center> \n",
    "<center>b) Average length of amphipod eaten</center> \n",
    "<center>c) Average weight of amphipod eaten</center>\n",
    "\n",
    "This result indicates that the selectivity of fish changes as fish size increases. A direct comparison of the percentage size frequency of prey items in the environment with those eaten appears to show little difference between the two distributions (Fig. 5). \n",
    "\n",
    "<p><p>\n",
    "<center><img src=\"images/Figure5.jpg\" alt=\"Fig. 5 a) Size frequency distribution of harpacticoids, calanoids, isopods and amphipods eaten by three size classes of fish. b) Size frequency distribution of harpacticoids, isopods, and amphipods collected in benthic samples\" height=500 width=400></center>\n",
    "<p><p>\n",
    "<center><b>Fig. 5</b> a) Size frequency distribution of harpacticoids, calanoids, isopods and amphipods eaten by three size classes of fish.</center> \n",
    "<center>b) Size frequency distribution of harpacticoids, isopods, and amphipods collected in benthic samples</center>\n",
    "\n",
    "To compare the size of prey in the environment with the sizes eaten, the size frequency distributions of prey resource was estimated using harpacticoids, isopods, and amphipods. Size frequency of prey eaten was estimated using the same prey items with the addition of calanoids. These prey items accounted for 91.78% of the total diet of the fish and should closely approximate the size frequency eaten. Use of Strauss’ selectivity index (1979), with these distributions gives a much clearer appreciation of the differences between the size of prey eaten and that sampled from the environment (Fig. 6). This selectivity index is the simple difference between the two size frequency distributions when expressed as proportions. Comparison with another index, Chesson’s (1978), gives essentially similar results.\n",
    "\n",
    "<p><p>\n",
    "<center><img src=\"images/Figure6.jpg\" alt=\"Fig. 6 Selectivity of each fish size class for prey sizes grouped 0.8mm size classes, using Strauss' linear index of selectivity\" height=500 width=400>\n",
    "</center><p><p>\n",
    "<center><b>Fig. 6</b> Selectivity of each fish size class for prey sizes grouped 0.8mm size classes, using Strauss' linear index of selectivity</center>\n",
    "\n",
    "The selectivity shown indicates that small fish are positively selective for small items. As fish size increases this changes to a negative selection for small items and a positive selection for larger items. Strauss’ index ranges from values of +1 to -1 with zero being random selection. The observed values for these fish are mainly in the range on +0.1 to -0.1, which is one tenth of the possible range. To test if the observed differences are significant, a Kolomorgov-Smirnov test was applied to each size group of fish. The results (Table. 3) indicate that significant differences exist for all size classes with the exception of 9, 18, and 21mm size class fish. This is consistent with a change in selectivity from small to larger prey items as fish size increases, with the switch in preference from small to large prey items occurring around the 18 and 21mm size groups. A final point of interest in these results is the apparent anomalous diet of fish in the 30mm size class. Of particular note is that the numbers and size of amphipods eaten by this size class are less than would be expected from the trends exhibited by other size classes.\n",
    "\n"
   ]
  },
  {
   "cell_type": "markdown",
   "metadata": {},
   "source": [
    "## Discussion"
   ]
  },
  {
   "cell_type": "markdown",
   "metadata": {},
   "source": [
    "The observed diet of _F. melanobranchus_ is similar to the diets of other gobies living in littoral environments. Most species are benthic microcarnivores which generally consume benthic crustaceans, polychaetes, molluscs, and may also include in their diet suprademersal prey such as calanoid copepods and decapods (Healey, 1971; Zander, 1979a, 1979b; Grossman, 1980; Villiers, 1980; Schmidt-moser and Westphal, 1981; Zander and Hartwig, 1983).\n",
    "\n",
    "Ontogenetic changes observed show similarities to those recorded by Villiers (1980), in which the goby _Deltentosteus quadrimaculatus_ exhibited changes from initially meiobenthos eaters to becoming more progressively macrobenthophageus with increasing size. These changes appear to be a common phenomena in fish (Villiers, 1980). Also noted by Villiers was the increase in prey size with the size of goby, and attributed this to a less selective aspect of predation in larger individuals. From the analysis presented here it would appear that larger fish are more selective. The mouth size of a fish constrains the absolute size of prey that can be eaten, with growth the fish is able to eat a wider size range of prey. If fish were unselective in their diet then the number of smaller sized prey items eaten should be the same for all size classes of fish.\n",
    "\n",
    "The use of a selectivity index may be questioned with regard to whether the observed prey distribution is that which is available to the fish. Availability between species is likely to be different any any such comparisons should be critically viewed. This analysis only compares the size frequency of prey items, and as most populations exhibit log-normal distributions (Schroener, 1971; Griffith, 1974), the distribution used here is likely to approximate the real availability to fish in the environment. In addition the index of selectivity is used in a comparative sense across size classes of fish. Therefore the assumption is that prey available to small fish are equally available to larger fish. As the size range of fish examined here is small (9-30mm) this assumption may not be greatly violated.\n",
    "\n",
    "The size frequency distribution of prey available was calculated from a subset of the total numbers of prey items and underestimates the abundance of small items: harpacticoids due to sampling error, nematodes are not included due to differing shape from meiocrustaceans, and calanoids which move with the tide. The onserved selectivity is then likely to be overestimated for small prey items. Larger prey items, other than amphipods, are comparatively rare with respect to the total number of prey. Non-inclusion of these items may not affect the results greatly. Taking these considerations into account, small fish may be unselective within the physical constraints of their prey size range, and as fish size increases, greater selectivity for larger prey items (within physical limits), will be exhibited.\n",
    "\n",
    "With the anomalous observation of fish in the 30mm size class the above conclusion still holds, but the results do not continue the expected trend shown by other size classes. One explanation for this result may be that the fish of this size are mature reproductive individuals. Such fish may have other demands to fulfil, ie. Reproduction and territory holding. Feeding may have second priority resulting in less selectivity. In terms of optimal foraging theory, these fish may maximize some other “currency” than energy intake."
   ]
  },
  {
   "cell_type": "code",
   "execution_count": null,
   "metadata": {
    "collapsed": false
   },
   "outputs": [],
   "source": []
  }
 ],
 "metadata": {
  "kernelspec": {
   "display_name": "Python 3.10.4 ('optimal-selection')",
   "language": "python",
   "name": "python3"
  },
  "language_info": {
   "codemirror_mode": {
    "name": "ipython",
    "version": 3
   },
   "file_extension": ".py",
   "mimetype": "text/x-python",
   "name": "python",
   "nbconvert_exporter": "python",
   "pygments_lexer": "ipython3",
   "version": "3.10.4"
  },
  "vscode": {
   "interpreter": {
    "hash": "6fc40e26add124368a7929bbef08bccde8069199cd55b12db5b8c2eb7f9dfe6b"
   }
  }
 },
 "nbformat": 4,
 "nbformat_minor": 0
}
