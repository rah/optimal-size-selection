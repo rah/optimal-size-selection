{
 "cells": [
  {
   "cell_type": "markdown",
   "metadata": {},
   "source": [
    "# Abstract"
   ]
  },
  {
   "cell_type": "markdown",
   "metadata": {},
   "source": [
    "_The feeding behaviour of a small littoral goby, <u>Favonigobius melanobranchus</u> was examined with special reference to size selectivity and concepts of optimal foraging. The diet was found to consist mainly of small crustaceans (95.42% by frequency) with harpacticoids, calanoids, and gammarid amphipods the major dietary components. Comparison of size of prey eaten with the size available in benthic samples showed fish to be apparently size selective._\n",
    "\n",
    "_Determination of handling time for amphipod prey allowed optimal prey size to be calculated. Comparison with the mean prey size eaten by field specimens showed no clear relationship to optimal prey size. By proposing a normal distribution of prey preference around the optimal prey size, a simulation model predicted mean prey size in close accordance with the observed mean prey size eaten._\n",
    "\n",
    "_The sizes of amphipods eaten and those collected in benthic samples were compared in bimonthly samples between February and August 1983. Marked shifts in the size frequency of amphipods eaten to smaller sizes of prey were observed in April and June. This appeared to be related to the abundance of a single species of epifaunal amphipod, and indicated a possible density dependant predator prey interaction. Harpacticoids and calanoids in the diet did not appear to follow similar trends, but aspects of the general diet with regard to diversity conformed to predictions of optimal foraging theory._\n",
    "\n",
    "_Functional responses of the predator investigated under laboratory conditions showed a Type II response for small amphipods, and a Type III response for large amphipods. The response obtained for large amphipods was proposed as one possible component explaining in explaining the observed seasonal changes in predation of amphipods._\n",
    "\n",
    "_When presented with a choice of large and small amphipods fish showed no selectivity. Calculation of optimal diet using random predator equations indicated fish were behaving optimally. Comparision with a well known and used method of calculating optimal diet showed that this method may not be suitable for experiments in which prey exploitation takes place.\n",
    "Although not conclusively proved, it is considered that strong evidence is shown for optimal foraging by <u>F. melanobranchus</u>._"
   ]
  },
  {
   "cell_type": "code",
   "execution_count": null,
   "metadata": {
    "collapsed": false
   },
   "outputs": [],
   "source": []
  }
 ],
 "metadata": {
  "kernelspec": {
   "display_name": "Python 2",
   "language": "python",
   "name": "python2"
  },
  "language_info": {
   "codemirror_mode": {
    "name": "ipython",
    "version": 2
   },
   "file_extension": ".py",
   "mimetype": "text/x-python",
   "name": "python",
   "nbconvert_exporter": "python",
   "pygments_lexer": "ipython2",
   "version": "2.7.6"
  }
 },
 "nbformat": 4,
 "nbformat_minor": 0
}
