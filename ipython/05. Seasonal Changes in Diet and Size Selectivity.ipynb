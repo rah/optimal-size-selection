{
 "cells": [
  {
   "cell_type": "markdown",
   "metadata": {},
   "source": [
    "# Seasonal Changes in Diet and Size Selectivity"
   ]
  },
  {
   "cell_type": "markdown",
   "metadata": {},
   "source": [
    "## Introduction"
   ]
  },
  {
   "cell_type": "markdown",
   "metadata": {},
   "source": [
    "The relationship between numbers of different types of prey items eaten by fish and the availability of those items in the environment is not clear. In some cases a particular type of prey may show a high frequency in stomach contents and yet not be the most abundant item in the resource. _Pomatoschistus microps_ was shown to consume _Corophium_ more than any other prey even when it was not the most abundant prey species, although in laboratory experiements this fish always took the closest moving prey regardless of species and size (Magnhagen and Wiederholm, 1982). Observation of the diet of pinfish, _Lagadon rhomboides_, indicates that the predation of amphipods in seagrass is directly affected by the relative susceptibility of different species to predation than their abundance (Nelson, 1979). Other studies have also indicated similar findings that predation is affected more by other factors than abundance of prey (Ware, 1973; Moore and Moore, 1976).\n",
    "\n",
    "The problem of availability of prey items in assessing selectivity of prey is difficult to overcome. If relative availability between prey species is assumed to be constant, this problem may be avoided by investigating the effects of abundance over time in a comparative sense.\n",
    "\n",
    "Changes in the abundance of prey items in both stomach contents of _F. melanobranchus_ and benthic samples are examined for each sampling session to determine if any trends exist between prey abundance and number eaten."
   ]
  },
  {
   "cell_type": "markdown",
   "metadata": {},
   "source": [
    "## Methods"
   ]
  },
  {
   "cell_type": "markdown",
   "metadata": {},
   "source": [
    "Bimonthly samples of fish and benthos were collected on 26th February, 23-26th  April, 25-26th June, and 25-26th August 1983, during afternoon low tides.\n",
    "\n",
    "To obtain a larger sample size of fish for February, specimens collected during January were included for analysis. Only fish of 20mm and above have been used in the analysis. In the benthic samples analysis has been restricted to amphipods retained by a 0.5mm sieve. Methods for sampling and data collection are as previously described."
   ]
  },
  {
   "cell_type": "markdown",
   "metadata": {},
   "source": [
    "## Results"
   ]
  },
  {
   "cell_type": "markdown",
   "metadata": {},
   "source": [
    "The diet of gobies in terms of frequency of prey items shows a marked variation between bimonthly samples (Fig. 11). Overall there is a reduction in the total numbers of prey items eaten (Fig. 12a), and an increase in the number of prey categories. Harpacticoids and calanoids are the major cause of this drop in frequency of prey items, with a very marked change in the numbers of calanoids. Amphipod A shows a decrease through to June and remaining prey categories increase over this period. In August the trends are reversed, amphipod A increasing in frequency and other categories decreasing.\n",
    "\n",
    "Calculation of Shannon-Wiener diversity index summarises these changes, and shows increasing diversity through to June and then falling in August (Fig. 12b). To determine if these changes reflect significant differences in the diet a t-test as proposed by Hutchenson (in Zar, 1974) was employed to test for significant differences in dietary diversity between adjacent months. The results of this test indicate that the diet of fish in April and June is not significantly different, but the months of January/February and August show significant differences to this period (Table 4).\n",
    "\n",
    "The abundance of amphipods throughout the total sampling period drops considerable during June (Fig. 13a). This decrease is due to changes in the abundance of amphipod A, whereas the combined abundance of all other amphipods gradually increases throughout the season. Observation of the average size of amphipods (Fig. 13b) indicates little change in the size frequency distribution. This is confirmed by the observation of size frequency distributions of amphipods collected from benthic samples (Figs. 14,15). Shown alongside the size frequency distribution of amphipods in the environment is the size frequency of amphipods eaten by fish. A very marked shift to smaller amphipods in the diet of fish occurs in April and June (Fig. 14). This appears to be related to the abundance of amphipods available, although the observed total abundance of amphipods in benthic samples is not greatly different in February and April. For amphipod A alone (Fig. 15) the shift to smaller amphipods occurs in June and is more clearly related to the drop in abundance of these amphipods.\n",
    "\n",
    "These changes are summarised in Figure 16. The number of fish eating amphipods and the number of amphipods eaten per fish show an increase in April and then a steady decrease to August (Fig. 16a,b). Amphipod A follows the above trend with the exception of June which shows a low frequency of occurrence and average number eaten. This corresponds with the low abundance of amphipods in June. The average size of amphipods eaten shows a decrease through to June and then returns to prior levels in August (Fig. 16c). These changes appear to be closely related to the changes in abundance of amphipod A (Fig. 13a), whilst all other amphipods show a steady increase throughout the sampling period. The fish appear to be switching from larger sizes of amphipod A to smaller sizes of other amphipods.\n",
    "\n",
    "The relationship between prey abundance and numbers of each prey type eaten as shown in Figure 16 is not completely clear. When the abundance of amphipod A is compared with the proportion of amphipod A eaten a much clearer trend is apparent (Fig. 17)."
   ]
  },
  {
   "cell_type": "markdown",
   "metadata": {},
   "source": [
    "## 5.4 Discussion"
   ]
  },
  {
   "cell_type": "markdown",
   "metadata": {},
   "source": [
    "If the assumption of constant relative availability between different prey items is valid, the results obtained indicate that the abundance of prey items has a considerable affect on the diet of F. melanobranchus. The relationship is not a simple one involving the abundance of all prey items. Although the abundance of amphipods other than amphipod A show an increase throughout the sampling period, predation by gobies appears to be more keyed to the abundance of amphipod A. This may indicate that this amphipod is a preferred prey item.\n",
    "\n",
    "In terms of optimal foraging theory, diversity of diet is predicted to increase as the abundance of preferred food items decreases. This prediction appears to have support from the data presented here. As the abundance of amphipod A declines so does the dietary diversity increase. The size of prey item shows a simular trend. As abundance of amphipod A decreases so does the average size of amphipod eaten. This is a result of the fish eating more number of amphipods other than amphipod A. As the other amphipods are generally smaller in size, the diet reflects this switch. Similar results have been obtained with planktivorous freshwater fish, where an active preference is shown for larger items. When the abundance of these falls, smaller items will be pursued (Bartell, 1982; Eggers, 1982).\n",
    "\n",
    "As the size frequency of amphipods does not markedly change whilst abundance changes, the behaviour exhibited by F. melanobranchus indicates a density dependent aspect to predation for larger prey items. Evidence for a density dependent relationship is presented in Chapter 6, and will be further discussed in that section.\n",
    "\n",
    "The habits of the various prey items may also be of relevance. Only one amphipod (AMA), has been identified as epifaunal. All other amphipods appear to be epibenthic or domicolous (see Appendix A). As amphipod A is epifaunal its availability to fish may be greater than the other amphipods (Nelson, 1979). This may be one possible causal factor in the preference of fish.\n",
    "Although the results appear to be consistent with theoretical predictions with respect to amphipods, the trends observed for harpacticoid and calanoid copepods do not appear to fit. These are relatively small prey items which if the above discussion is applicable should vary in dietary abundance in a similar manner to the small amphipods. Without knowledge of the changes in benthic abundance of these items it is difficult to propose any explanation. Bartell (1982), also notes that one prey item did not follow the trends as evidenced by other prey items."
   ]
  },
  {
   "cell_type": "code",
   "execution_count": null,
   "metadata": {
    "collapsed": false
   },
   "outputs": [],
   "source": []
  }
 ],
 "metadata": {
  "kernelspec": {
   "display_name": "Python 2",
   "language": "python",
   "name": "python2"
  },
  "language_info": {
   "codemirror_mode": {
    "name": "ipython",
    "version": 2
   },
   "file_extension": ".py",
   "mimetype": "text/x-python",
   "name": "python",
   "nbconvert_exporter": "python",
   "pygments_lexer": "ipython2",
   "version": "2.7.6"
  }
 },
 "nbformat": 4,
 "nbformat_minor": 0
}
