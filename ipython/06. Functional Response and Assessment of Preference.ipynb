{
 "cells": [
  {
   "cell_type": "markdown",
   "metadata": {},
   "source": [
    "# Functional Response and Assessment of Preference"
   ]
  },
  {
   "cell_type": "markdown",
   "metadata": {},
   "source": [
    "## Introduction"
   ]
  },
  {
   "cell_type": "markdown",
   "metadata": {},
   "source": [
    "The functional response of a predator relates the number of prey that a predator can eat per unit time to the density of the prey. Three types of functional response are generally recognised (Murdoch, 1973), based on the shape of the curve. A type I response shows a linear rise to a maximum in the number of prey eaten per predator as density increases, type II responses rise at a decreasing rate towards a maximum value, and type III show a sigmoid shaped curve also rising to an asymptote. All three responses rise to an asymptote as a result of the handling time required for each prey or satiation. The curves rise initially as encounters with prey increase with density. With increasing contacts the sum of handling time reduces the time available for searching. This causes the number eaten to reach a maximum although density of prey may increase. The second factor, satiation, may influence the attack rate of a predator. As the predator becomes satiated attack rate may decrease. At higher prey densities the predator is likely to become satiated more quickly this reducing the attack rate.\n",
    "\n",
    "In the type III response, attack rate rises initially with prey density and then levels off as the effects of handling time or satiation take place. The increase in attack rate has been attributed to some aspect of the predators behaviour (Murdoch, 1973), in which the attack rate or handling time may change from low to high prey densities as a result of some aspect of learning. This form of response is the only one which shows a density dependent relationship. Type II is inversely density dependent and type I is density independent. The type III response is considered important as it may provide one mechanism for stability in models of predation and population dynamics (Murdoch, 1975).\n",
    "\n",
    "The type II relationship has been the most commonly observed functional response, and has received the most theoretical attention. The best known description being the disc equation of Holling (Hassel et. al., 1977):\n",
    "\n",
    "Na = aTn/1+ahN\t\t…(1)\n",
    "\n",
    "where Na is the number of prey encountered per predator, a is the instantaneous attack rate, T is the time that the predator and prey are exposed to each other, h is the handling time for each prey eaten and N is the density of the prey.\n",
    "In this model the predator is assumed to search completely systematically and not waste any effort in researching part of the area (Rogers, 1972). In addition the model does not permit the depletion of available prey during the course of predation. Both of these aspects can be included by assuming random search for prey (Rogers, 1972) where:\n",
    "\n",
    "Na = N[1-exp(-a(T-hNa))]\t\t…(2)\n",
    "\n",
    "From this model the parameters of attack rate and handling time may be estimated by rearrangement of eqn (2) to calculate linear regressions (Rogers, 1972).\n",
    "\n",
    "Knowledge of these parameters for different prey items enables the prediction of the numbers attacked for any density. Equation (2) can be adapted to a two prey situation (Murdoch, 1973; Lawton et. al., 1974), allowing the number of a prey item attacked to be predicted when in the presence of another.\n",
    "\n",
    "This approach is used here to determine whether the apparent selectivity for larger prey items indicated by field studies can be observed and analysed under laboratory conditions for large F. melanobranchus and two sizes of amphipod A.\n"
   ]
  },
  {
   "cell_type": "markdown",
   "metadata": {},
   "source": [
    "## Methods"
   ]
  },
  {
   "cell_type": "markdown",
   "metadata": {},
   "source": [
    "All experiments were carried out in a 30cm square aquarium with filtered seawater to a depth of 10cms. To provide a somewhat more ‘natural’ environment than a bare glass bottom, a layer (0.5cm) of washed fine sand collected from the beach adjacent to the sampling site was placed in the aquarium. As the prey items used are epifaunal amphipods (AMA), artificial seagrass was provided. Seagrass was constructed of green garbage bag plastic cut into two millimetre strips 8cm long, grouped into clumps of three, and glued to the base of the aquarium in an even pattern with a density of 25 clumps. The aquarium was isolated in a large cardboard box and lighting provided by a 40 watt desk lamp suspended 50cms above the surface of the aquarium.\n",
    "\n",
    "Experimental fish and prey were collected on the day prior to experimentation. Approximately twenty fish were collected on each occasion and maintained in a clean aquarium with sand bottom for approximately twenty hours prior to commencement of experimentation. Two size classes of prey were used, small amphipods were those which could pass through a 0.71mm Endecotts sieve and retained by a 0.5mm sieve. Large amphipods were those retained by a 1.0mm sieve.\n",
    "\n",
    "A standardised experimental procedure was followed with each experiment. Required amphipods were counted, and each transferred with a pipette, ensuring that all appeared healthy and of an even size. These were placed in the experimental aquarium and allowed to settle for several minutes. Three fish from the holding aquarium were placed in the experimental aquarium and left to feed for thrity minutes. On completion fish were removed and measured to the nearest millimetre. The experimental aquarium was drained through a fine meshed net, refilled and drained a further four times to remove all uneaten amphipods. Three replicate controls of ten large and ten small amphipods showed this method to be effective at removing all remaining amphipods. Preliminary observations of fish showed commencement of search behaviour within thirty seconds.\n",
    "\n",
    "Two series of experiments were conducted. One determined functional response for large and small amphipods, when presented over a range of densities (10, 20, 30, 40, 60). The other series investigated prey choice when offered both large and small amphipods over a range of relative proportions (0.2, 0.4, 0.6, 0.8), and at two different levels of total abundance (20, 50). For each data point four replicates were conducted.\n",
    "\n",
    "Numerical solutions to equations derived from the random predator equation were achieved using iterative FORTRAN programs. Appendix B contains the programs used."
   ]
  },
  {
   "cell_type": "markdown",
   "metadata": {},
   "source": [
    "## Results"
   ]
  },
  {
   "cell_type": "markdown",
   "metadata": {},
   "source": [
    "The functional response for small amphipods (Fig. 18a) shows an almost linear relationship between prey density and number eaten. To determine the rate of search and handling time the random predator equation (2) can be rearranged to calculate a linear regression (Rogers, 1972):\n",
    "\n",
    "ln((N-Na)/N) = ahpNa - Tap\t…(3)\n",
    "\n",
    "where ahp = slope, and -Tap = intercept, p = number of predators. \n",
    "\n",
    "As all experiments were conducted using three fish, the estimated values of handling time and attack rate are given for three fish, values per fish may easily be determined by dividing estimates by the number of predators. \n",
    "\n",
    "The mean values of the four replicates were used in calculation of the regression (Fig. 18b), giving an estimate of the attack rate a = 0.028 min-1 and handling time h = 0.103min. Substituting these values into the random predator equation enabled a fitted curve to be calculated (Fig. 18a). Goodness of fit was tested using Chi-square, and found to be highly significant (X2(4) = 0.1323, p>0.995).\n",
    "\n",
    "The results for large amphipods show a sigmoid or type III response (Fig. 19a), which indicates that the attack rate is an increasing function of prey density (Hassel et.al., 1977). To test this null hypothesis, that at no density is the proportion attacked greater than at the lowest density (Townsend and Risebrow, 1982), was used with Chi-square with data summed for all replicates. The result was highly significant (X2(4) = 17.826, p\\<0.005), therefore requiring a type III curve to be fitted to the data.\n",
    "\n",
    "To estimate handling time, the procedure used for small amphipods was repeated with the data above the inflection of the sigmoid response (Hassel et.al., 1977), obtaining a value h = 1.04min (y = 0.322x-0.928, r=0.96, n=3). With this estimate of h it is possible to calculate the way in which the attack rate is related to prey density from equation (2) (Fig. 19b). This shows that the attack rate increases with prey density in a similar way to a type II response and a relationship may be derived for attack rate and prey density (Hassel et.al., 1977):\n",
    "\n",
    "a = bN/(1+cN)\t…(4)\n",
    "\n",
    "where b and c are constants. \n",
    "\n",
    "These constants may be estimated by rearrangement of equation (4) to give a linear form:\n",
    "\n",
    "a/N = b-ca\t…(5)\n",
    "\n",
    "and allow calculation of b and c by regression. Using all data points gives a low correlation (r=-0.27). As the objective is to determine the best fit to the data in the sigmoid response, the data point for prey density 20 was excluded. This gave a better correlation (r=-0.77) and estimates of b = 0.00163 and c = 0.0242.\n",
    "\n",
    "Hassel et.al. (1977), substitute equation (4) into Hollings’ disc equation (1) and derive a functional response model for situations were prey are exploited comparable with equation (2):\n",
    "\n",
    "Na = N(N-Na)[clog(N-Na/N)-bhNa+bT]\t…(6)\n",
    "\n",
    "Although equation (6) provided a good fit to the observed data, it was found to be unsolvable when applied to the two prey situation.\n",
    "\n",
    "This problem was overcome by substituting equation (4) directly into equation (2) giving:\n",
    "\n",
    "Na = N(1-exp((-bN/(1+cN))(T-Nah)))\t…(7)\n",
    "\n",
    "This also provided a good fit to the observed data (X2(4) = 0.979, p>0.90), and was found amenable to use in a two-prey situation.\n",
    "\n",
    "As an independent test of the estimated parameters, handling times derived from functional responses may be compared with the handling times measured directly (Chap. 4). With small amphipods the average size used in the functional response experiments was 2.566 0.138mm (95%CL, n=40), and average fish size 28.80 0.63mm (95%CL, n=60). Handling time calculated from the relationship given in Chapter 4 gives h=4.8sec. Handling time for large amphipods with an average size of 4.51 0.22mm (95%CL, n=40) and fish 28.48 0.66mm (95%CL, n=60) is 23.4sec. Comparing these with the estimated handling times from the functional response adjusted to one fish shows reasonably close results:\n",
    "\n",
    "h from functional response\n",
    "h from handling time equation\n",
    "Small amphipods\n",
    "2.06\n",
    "4.8\n",
    "Large amphipods\n",
    "20.08\n",
    "23.4\n",
    "\n",
    "Application of Rogers’ random predator equations assumes random search by the predator. To check this assumption fish were observed while hunting for amphipods. Upon being placed into a test aquarium fish commenced an apparent search behaviour almost immediately. This consisted of movement around the bottom of the aquarium in a series of short hops stopping for approximately one half to two seconds between each movement. Pectoral fins were used in a sculling motion to achieve these hops with no apparent use of the caudal fin. On sighting a prey item this would be cautiously approached and then seized. Most of the prey items settled around the sand on the edges and corners of the aquarium. The dispersal of the prey was therefore not exactly random, but this has no effect on the assumptions of the equation (Rogers, 1972). Predator movement appeared to be random. Although handling time may have caused area concentrated search, it did not appear that the probability of eating the next prey item in the close vicinity of the last item was increased.\n",
    "\n",
    "Both equations (2) and (7) can be readily adapted to a two prey situation giving:\n",
    "\n",
    "Na1 = N1(1-exp(-a1(T-h1Na1-h2Na2)))\t…(8)\n",
    "Na2 = N2(1-exp((-bN2/(1+cN2))(T-h2Na2-h1Na1)))\t…(8)\n",
    "\n",
    "Subscripts refer to small and large amphipods respectively.\n",
    "\n",
    "Using equations (8) the expected number of each prey type may be calculated for any combination of prey density. Figure 20 shows this for the range of prey densities used in the functional response experiments. Of particular interest is the intersection of the graphs for large and small amphipods. This is the point at which equal numbers of each prey type are eaten, which only corresponds to equal prey density offered at high levels of total prey abundance. Thus without knowledge of attack rate and handling time an apparent selection for small amphipods would be shown. By using the predicted numbers of each prey type eaten as a null hypothesis that search behaviour remains constant in the presence of either prey type individually and both types together (Cock, 1978), selectivity may be analysed. Deviation from this prediction would be caused by a change in one of the searching parameters, either by a change in search strategy or the selection/rejection of disproportionate numbers of prey.\n",
    "\n",
    "At a total density of 20 amphipods no selectivity is apparent for small amphipods but some positive selection appears to have taken place for large amphipods (Fig. 21a). A goodness of fit test using Chi-square showed that the mean observed result was not significantly different from the predicted values (2(3)=7.5078, 0.10>p>0.05), although close to the significance level of 0.05. No selectivity was observed for either large or small amphipods using a total density of 50 amphipods (Fig. 21b).\n",
    "Overall the results indicate that no selectivity exists for either large or small amphipods in the range of relative densities or absolute abundances offered. To determine if this is consistent with optimal foraging theory the optimal diet was calculated using the derived predator equations (2, 7, and 8). The predicted numbers eaten of each size amphipod, were calculated for situations where fish either ate one prey type exclusively or all prey types encountered. Using the average size of each prey type and the calculated weight of that prey, the total weight ingested was predicted for each experimental situation of total and relative abundance used (Table 5). Note that these figures have been calculated for the three fish in each experimental situation. By comparing the predicted total weights ingested for fish eating either exclusively small or large amphipods or both together, it can be seen that under no situation of relative and total abundance fish can increase their rate of food intake (over 30 minutes) by ignoring one or other prey item type. Therefore the optimum diet is the one which includes all prey types. The results observed for fish (Figs. 21a,b) thus indicate that their foraging behaviour is consistent with optimal foraging theory as applied by this method of calculating optimal diet.\n",
    "\n",
    "To check these results, optimal diet was recalculated using the method of Charnov (1976), as explained in Chapter 4. The expected energy return for each size amphipod shows that small amphipods (r/h = 509.51 g/min) have approximately twice the energy return of large amphipods (r/h = 242.8 g/min). Therefore in calculating the optimal diet small amphipods become the highest ranked item. The number of each prey type encountered () was calculated for a 30 minute period from the density of each prey type (Ni) and their attack rate (ai) for that prey type. The results (Table 6) show that at higher relative densities of small amphipods, fish should be able to maximise their rate of food intake by ignoring larger amphipods.\n",
    "Therefore using Charnov’s (1976) theorem in calculating optimal diet, the observed results for fish show that optimal foraging does not take place."
   ]
  },
  {
   "cell_type": "markdown",
   "metadata": {},
   "source": [
    "## Discussion"
   ]
  },
  {
   "cell_type": "markdown",
   "metadata": {},
   "source": [
    "Comparatively few studies on fish feeding behaviour have investigated the functional response of the fish. Of these several have found sigmoid functional responses (Reed in Murdoch, 1973; Ware, 1972; Townsend and Risebrow, 1982). \n",
    "The cause of sigmoid responses may be due to a change in behaviour (Murdoch, 1973). As fish exhibit considerable adaptive flexibility in feeding behaviour (Dill, 1983), such responses may not be unexpected. Murdoch (1973), considers that this type of response in fish is a result of naivety to the prey or the experimental situation. Individuals given low prey densities meet few prey and take a long time to realise that they are prey. Whilst those given high prey densities learn quickly and attack prey at a high rate. Therefore as such naivety is short lived the response is likely to be unimportant in the field as a density dependent stabilising mechanism.\n",
    "\n",
    "This explanation does not appear to be suitable for F. melanobranchus and their amphipod prey. In these experiments both functional responses of type II and III were observed. If naivety to prey or the situation were the cause then a type III response might be expected for both small and large amphipods. In addition, amphipods are a normal component of the gobies diet.\n",
    "\n",
    "Hassel et.al. (1977), suggest that sigmoid functional responses in invertebrate predators may be much more common than previously supposed. They argue that the type II response has been more commonly observed because predators in experimental situations have usually been offered large preferred prey. In F. melanobranchus the situation may be reversed where the smaller prey item is preferred. Considering the energy return per item, smaller amphipods were shown to have approximately twice the value of larger amphipods. Additionally, handling time is approximately ten times greater for large amphipods. Therefore the sigmoid response observed for large amphipods may be more than a short lived mechanism for these gobies, and the density dependent relationship hold more importance for the dynamics of predator prey relationships between gobies and amphipods.\n",
    "When compared with the observed predator prey relationships in the field (Chapter 5), the functional response of gobies appears to provide some explanation for the changes in diet with respect to the abundance of amphipods. As the density of the larger amphipods falls below some threshold level, comparable with that point on the type III curve where handling time and satiation take effect, the attack rate of fish will drop proportionately as density further declines. This may lead to an increased rate of attack on smaller amphipods, as evidenced by the fish switching to smaller sized amphipods in April and June (Fig. 14). Such a behaviour would act in effect as a prey refuge for large amphipods. As the numbers in the population of large amphipods returns to previous levels, so the fish would show a switch back to large amphipods. This would happen even though the numbers of small amphipods have not decreased as shown in August (Fig. 13). Whether this proposed behaviour has a significant effect on the dynamics of amphipod populations is uncertain. The decrease in abundance of amphipod A may be a result of the decrease in seagrass density. As amphipod A is epifaunal, loss of available habitat is likely to have a strong affect on population density.\n",
    "\n",
    "Although appearing to explain aspects of the observed seasonal changes in the diet, the functional responses as derived here, are only one of the many factors which may influence the predator prey interactions in this environment. The importance of functional responses lies in their usefulness in investigating possible important factors in a quantitative manner. They may be applied to differences in prey size as shown here, effects of light levels (Townsend and Risebrow, 1982), habitat complexity, and analysis of preference.\n",
    "\n",
    "The use of functional responses to analyse selectivity between large and small amphipods showed, contrary to expectation from field observations, that no apparent selectivity existed. It must be noted that this conclusion only applies to the particular experimental conditions used. Selectivity may be exhibited under different circumstances. The effect of hunger for example has been shown to affect selectivity, with fish becoming more selective as hunger decreases (Werner, 1974). As experimental fish had been starved prior to experimentation, hunger may have reduced selectivity to a minimum. In terms of optimal foraging theory, the encounter rate experienced prior to being placed in the experimental aquarium may dictate acceptance of all prey items.\n",
    "\n",
    "Calculation of the optimal diet using two approaches led to a contradiction as to whether fish fed optimally or not. This result is interesting from the aspect that calculation of the optimal diet via the alternative method using the predator prey equations provides an independent test of a well known and used theorem. Charnov’s (1976), theorem is derived from a multi-species version of the Holling disc equation. As such it may incorporate the assumption of systematic search and not allow for exploitation of prey which applies to the disc equation. Solutions derived would then represent an instantaneous result based on initial densities. In the experimental procedure used, prey items were not replaced as eaten. The expected number of prey encountered in one unit of search time  (i) would be reduced as the experiment proceeded. The optimal diet calculated with initial densities may then be no longer correct. Use of the random predator equation overcomes this problem as they allow for exploitation of prey. Therefore the calculation of optimal diet from the random predator equations is likely to more correct. Under these precepts F. melanobranchus may be considered to be foraging within the constraints of optimal foraging theory. Unfortunately this is not a good test of the theory as fish may also be eating all items encountered whether optimal or not.\n",
    "The results from the choice experiments may also be used in a qualitative manner to evaluate the apparent size hypothesis of O’Brien et.al. (1976), This predicts that at low densities where items are encountered infrequently, all will be eaten. At higher densities of prey items the fish may be presented with a simultaneous choice and will select the apparently largest item. This will depend on the size of the prey item and its distance from the fish. Gibson (1980), in a test of this hypothesis found that sticklebacks (Gasterosteus aculeatus) when offered a choice between large an small daphnia, took the apparently larger item irrespective of absolute size. When feeding on mixed populations of the two size classes of daphnia, predictions of a simulation model incorporating choice of the apparently largest prey were consistent with the observed diet at low densities but not at high densities. Therefore contrary to prediction, sticklebacks did not specialise increasingly on large daphnia at high densities.\n",
    "\n",
    "If F. melanobranchus feeding behaviour was in accordance with the apparent size hypothesis, the expected results would be increasing selection for large amphipods as the relative density of small amphipods decreased. The results of the choice experiments indicate that no selectivity is shown between large and small amphipods, and therefore the apparent size hypothesis is not validated.\n",
    "\n",
    "Gibson (1980), also showed that optimal diet theory correctly predicted the observed pattern of predation. As with the finding presented here, the rate of food intake was maximised by eating all items encountered, thus only indirectly supporting optimal foraging theory."
   ]
  },
  {
   "cell_type": "code",
   "execution_count": null,
   "metadata": {
    "collapsed": false
   },
   "outputs": [],
   "source": []
  }
 ],
 "metadata": {
  "kernelspec": {
   "display_name": "Python 2",
   "language": "python",
   "name": "python2"
  },
  "language_info": {
   "codemirror_mode": {
    "name": "ipython",
    "version": 2
   },
   "file_extension": ".py",
   "mimetype": "text/x-python",
   "name": "python",
   "nbconvert_exporter": "python",
   "pygments_lexer": "ipython2",
   "version": "2.7.6"
  }
 },
 "nbformat": 4,
 "nbformat_minor": 0
}
